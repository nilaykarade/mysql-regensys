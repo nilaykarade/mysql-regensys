{
 "cells": [
  {
   "cell_type": "code",
   "execution_count": 8,
   "id": "d610635a",
   "metadata": {},
   "outputs": [
    {
     "name": "stdout",
     "output_type": "stream",
     "text": [
      "enter your email paul@gmail.com\n",
      "enter your passcode admin123\n",
      "Printing the fetched results  [('paul@gmail.com', 'admin123')]\n",
      "welcome  paul@gmail.com\n",
      "Please select product of your intrest\n",
      "1   Business Shirt   300.0\n",
      "2   Trousers   400.0\n",
      "3   Jacket   450.0\n",
      "4   Blouse   300.0\n",
      "5   Skirt   320.0\n",
      "6   Ladies Shoes   250.0\n",
      "7   Belt   220.0\n",
      "8   Bag   420.0\n",
      "9   Mens Shoes   365.0\n",
      "10   Wallet   150.0\n",
      "11   A4 Paper bundle   100.0\n",
      "12   Ink cartridge   300.0\n",
      "13   Printer toner   1000.0\n",
      "14   Wired mouse by XYZ   30.0\n",
      "15   Wireless mouse by XYZ   60.0\n",
      "16   Wired keyboard by XYZ   80.0\n",
      "17   Wireless keyboard by XYZ   160.0\n",
      "18   Pen drive 16GB   60.0\n",
      "19   Pen drive 32GB   80.0\n",
      "20   Pen drive 64GB   100.0\n",
      "21   Pen drive 128GB   120.0\n",
      "22   Dish washing liquid   389.0\n",
      "23   Electric kettle   170.0\n",
      "24   Pillows   210.0\n",
      "25   Floor broom   200.0\n"
     ]
    }
   ],
   "source": [
    "email=input(\"enter your email \")\n",
    "passcode=input(\"enter your passcode \")\n",
    "check_user(email,passcode)"
   ]
  },
  {
   "cell_type": "code",
   "execution_count": 7,
   "id": "59dce2d8",
   "metadata": {},
   "outputs": [],
   "source": [
    "import mysql.connector\n",
    "def check_user(email,passcode):\n",
    "    connection = mysql.connector.connect(\n",
    "      host =\"localhost\",\n",
    "      user =\"root\",\n",
    "      passwd =\"root\",\n",
    "      database=\"ecommerce_db\"\n",
    "    )\n",
    " \n",
    "    #print(connection)\n",
    "    \n",
    "    query = \"select customer_email, passcode from ecommerce_customer where customer_email = '\"+email+\"' and passcode='\"+passcode+\"'\"\n",
    "    cursor_obj = connection.cursor()\n",
    "    cursor_obj.execute(query)\n",
    "   \n",
    "    myresult = cursor_obj.fetchall()\n",
    "    \n",
    "    print(\"Printing the fetched results \",myresult)\n",
    "    \n",
    "    print(\"welcome \",myresult[0][0])\n",
    "        \n",
    "    if myresult[0][0]==email and myresult[0][1]==passcode:\n",
    "        \n",
    "        show_products(cursor_obj)\n",
    "        connection.close()\n",
    "    else:\n",
    "        print(\"Login failed\")\n",
    "    "
   ]
  },
  {
   "cell_type": "code",
   "execution_count": 5,
   "id": "92bd33c3",
   "metadata": {},
   "outputs": [],
   "source": [
    "def show_products(cursor_obj):\n",
    "    query = \"select * from products;\"\n",
    "    cursor_obj.execute(query)\n",
    "    product_list = cursor_obj.fetchall()\n",
    "    print(\"Please select product of your intrest\")\n",
    "    for product in product_list:\n",
    "        #print(product)\n",
    "        print(product[0],\" \",product[1],\" \",product[4])\n",
    "    \n",
    "    "
   ]
  },
  {
   "cell_type": "code",
   "execution_count": null,
   "id": "9e72923d",
   "metadata": {},
   "outputs": [],
   "source": []
  }
 ],
 "metadata": {
  "kernelspec": {
   "display_name": "Python 3 (ipykernel)",
   "language": "python",
   "name": "python3"
  },
  "language_info": {
   "codemirror_mode": {
    "name": "ipython",
    "version": 3
   },
   "file_extension": ".py",
   "mimetype": "text/x-python",
   "name": "python",
   "nbconvert_exporter": "python",
   "pygments_lexer": "ipython3",
   "version": "3.9.7"
  }
 },
 "nbformat": 4,
 "nbformat_minor": 5
}
